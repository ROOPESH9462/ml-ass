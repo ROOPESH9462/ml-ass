{
  "nbformat": 4,
  "nbformat_minor": 0,
  "metadata": {
    "colab": {
      "provenance": [],
      "authorship_tag": "ABX9TyMRtNtTmw/za/U5qIQ14/H+",
      "include_colab_link": true
    },
    "kernelspec": {
      "name": "python3",
      "display_name": "Python 3"
    },
    "language_info": {
      "name": "python"
    }
  },
  "cells": [
    {
      "cell_type": "markdown",
      "metadata": {
        "id": "view-in-github",
        "colab_type": "text"
      },
      "source": [
        "<a href=\"https://colab.research.google.com/github/ROOPESH9462/ml-ass/blob/main/assignment1.ipynb\" target=\"_parent\"><img src=\"https://colab.research.google.com/assets/colab-badge.svg\" alt=\"Open In Colab\"/></a>"
      ]
    },
    {
      "cell_type": "code",
      "source": [
        "import numpy as np"
      ],
      "metadata": {
        "id": "OkL_YVPEmY-j"
      },
      "execution_count": 2,
      "outputs": []
    },
    {
      "cell_type": "code",
      "execution_count": 4,
      "metadata": {
        "id": "-pb52XIuEci7",
        "colab": {
          "base_uri": "https://localhost:8080/"
        },
        "outputId": "651f6f1a-41ab-4935-9745-a6d8a24f8aa3"
      },
      "outputs": [
        {
          "output_type": "stream",
          "name": "stdout",
          "text": [
            "Addition : [5 7 9]\n",
            "Subtraction : [-3 -3 -3]\n",
            "Multiplication : [ 4 10 18]\n",
            "Division : [0.25 0.4  0.5 ]\n"
          ]
        }
      ],
      "source": [
        "arr1 = np.array([1, 2, 3])\n",
        "arr2 = np.array([4, 5, 6])\n",
        "add = arr1 + arr2\n",
        "print(\"Addition :\", add)\n",
        "sub = arr1 - arr2\n",
        "print(\"Subtraction :\", sub)\n",
        "mul = arr1 * arr2\n",
        "print(\"Multiplication :\", mul)\n",
        "div = arr1 / arr2\n",
        "print(\"Division :\", div)"
      ]
    },
    {
      "cell_type": "code",
      "source": [
        "a = np.array([10, 20, 30, 40, 50])\n",
        "mean = np.mean(a)\n",
        "std = np.std(a)\n",
        "print(\"Mean of the array:\", mean)\n",
        "print(\"Standard Deviation of the array:\", std)"
      ],
      "metadata": {
        "id": "e_oO2NTEGv1d",
        "colab": {
          "base_uri": "https://localhost:8080/"
        },
        "outputId": "e6682560-a2d1-45c7-b7f5-400b88cf166e"
      },
      "execution_count": 5,
      "outputs": [
        {
          "output_type": "stream",
          "name": "stdout",
          "text": [
            "Mean of the array: 30.0\n",
            "Standard Deviation of the array: 14.142135623730951\n"
          ]
        }
      ]
    },
    {
      "cell_type": "code",
      "source": [
        "arr=np.arange(10,51,5)\n",
        "print(arr)"
      ],
      "metadata": {
        "id": "amX7aIfvGwFP",
        "colab": {
          "base_uri": "https://localhost:8080/"
        },
        "outputId": "b6ebed91-027e-4b7c-96e1-31f90a9f0c70"
      },
      "execution_count": 6,
      "outputs": [
        {
          "output_type": "stream",
          "name": "stdout",
          "text": [
            "[10 15 20 25 30 35 40 45 50]\n"
          ]
        }
      ]
    },
    {
      "cell_type": "code",
      "source": [
        "b=np.array([1,2,3,4,5,6,7,8])\n",
        "reshape_arr=b.reshape(2,4)\n",
        "print(reshape_arr)"
      ],
      "metadata": {
        "id": "03kWRkBAGwXv",
        "colab": {
          "base_uri": "https://localhost:8080/"
        },
        "outputId": "170c5a22-eead-4c9f-eda8-b0f4bebaacb5"
      },
      "execution_count": 7,
      "outputs": [
        {
          "output_type": "stream",
          "name": "stdout",
          "text": [
            "[[1 2 3 4]\n",
            " [5 6 7 8]]\n"
          ]
        }
      ]
    },
    {
      "cell_type": "code",
      "source": [
        "c=np.array([[1,2,3],[4,5,6],[7,8,9]])\n",
        "d=c[1:,:2]\n",
        "print(c)\n",
        "print()\n",
        "print(d)"
      ],
      "metadata": {
        "colab": {
          "base_uri": "https://localhost:8080/"
        },
        "id": "LGPAdJxCzWX_",
        "outputId": "28075380-551e-4778-9fe3-f627daa48e0f"
      },
      "execution_count": 3,
      "outputs": [
        {
          "output_type": "stream",
          "name": "stdout",
          "text": [
            "[[1 2 3]\n",
            " [4 5 6]\n",
            " [7 8 9]]\n",
            "\n",
            "[[4 5]\n",
            " [7 8]]\n"
          ]
        }
      ]
    },
    {
      "cell_type": "code",
      "source": [
        "a = np.array([1, 2, 3])\n",
        "b = np.array([4, 5, 6])\n",
        "addition = a + b\n",
        "multiplication = a * b\n",
        "division = a / b\n",
        "print(\"Addition: \", addition)\n",
        "print(\"Multiplication: \", multiplication)\n",
        "print(\"Division: \", division)"
      ],
      "metadata": {
        "colab": {
          "base_uri": "https://localhost:8080/"
        },
        "id": "_ZQrlnz8Ivj1",
        "outputId": "256e3d7a-c679-48c0-db4a-bb0f89f568cb"
      },
      "execution_count": 8,
      "outputs": [
        {
          "output_type": "stream",
          "name": "stdout",
          "text": [
            "Addition:  [5 7 9]\n",
            "Multiplication:  [ 4 10 18]\n",
            "Division:  [0.25 0.4  0.5 ]\n"
          ]
        }
      ]
    },
    {
      "cell_type": "code",
      "source": [
        "arr = np.random.rand(4, 4)\n",
        "meancol = np.mean(arr, axis=0)\n",
        "maxval = np.max(arr)\n",
        "sumele = np.sum(arr)\n",
        "print(\"Random Array:\\n\", arr)\n",
        "print(\"Mean of each column: \", meancol)\n",
        "print(\"Maximum value of the entire array: \", maxval)\n",
        "print(\"Sum of all elements: \", sumele)"
      ],
      "metadata": {
        "colab": {
          "base_uri": "https://localhost:8080/"
        },
        "id": "3TXPXmfFI4jZ",
        "outputId": "17e5ec6c-e6de-4647-e8c8-370a7c3e3186"
      },
      "execution_count": 9,
      "outputs": [
        {
          "output_type": "stream",
          "name": "stdout",
          "text": [
            "Random Array:\n",
            " [[0.98733087 0.34280723 0.19421374 0.59782006]\n",
            " [0.44267012 0.12520075 0.36364118 0.25897   ]\n",
            " [0.54879546 0.98087369 0.47465686 0.14582387]\n",
            " [0.19326521 0.17685126 0.72759816 0.00680085]]\n",
            "Mean of each column:  [0.54301542 0.40643323 0.44002748 0.25235369]\n",
            "Maximum value of the entire array:  0.9873308742911745\n",
            "Sum of all elements:  6.5673193077740075\n"
          ]
        }
      ]
    },
    {
      "cell_type": "code",
      "source": [
        "arr2=np.array([1,2,3,4])\n",
        "result=(arr2+10)*2\n",
        "print(result)"
      ],
      "metadata": {
        "colab": {
          "base_uri": "https://localhost:8080/"
        },
        "id": "tqoYmau9J0vM",
        "outputId": "759d1fbb-fe30-493d-c5cc-40ae047a1263"
      },
      "execution_count": 10,
      "outputs": [
        {
          "output_type": "stream",
          "name": "stdout",
          "text": [
            "[22 24 26 28]\n"
          ]
        }
      ]
    },
    {
      "cell_type": "code",
      "source": [
        "import numpy as np\n",
        "arr = np.random.randint(1, 101, size=(3, 4, 5))\n",
        "print(\"Original Array:\\n\", arr)\n",
        "seclay = arr[1]\n",
        "print(\"\\nSecond Layer:\\n\", seclay)\n",
        "extracted_rows_columns = arr[:, :2, -3:]\n",
        "print(\"\\nFirst two rows and last three columns from each layer:\\n\", extracted_rows_columns)\n",
        "arr[arr % 3 == 0] = -1\n",
        "print(\"\\nArray after replacing elements divisible by 3 with -1:\\n\", arr)"
      ],
      "metadata": {
        "colab": {
          "base_uri": "https://localhost:8080/"
        },
        "id": "CitxWtLfLB-P",
        "outputId": "ff6f3dff-3beb-4f03-c9f5-643f4885e042"
      },
      "execution_count": 11,
      "outputs": [
        {
          "output_type": "stream",
          "name": "stdout",
          "text": [
            "Original Array:\n",
            " [[[93 18 50 39 37]\n",
            "  [51 75  4 57 25]\n",
            "  [19 30 16 47 58]\n",
            "  [29 26 85 71 77]]\n",
            "\n",
            " [[17 75 14 24 17]\n",
            "  [23 57 42 85 97]\n",
            "  [59 85 56 37 92]\n",
            "  [37 82 65 82 95]]\n",
            "\n",
            " [[47 55 49 13 81]\n",
            "  [36 66 35 93 62]\n",
            "  [39 31 99 81 61]\n",
            "  [76 89 33 24 40]]]\n",
            "\n",
            "Second Layer:\n",
            " [[17 75 14 24 17]\n",
            " [23 57 42 85 97]\n",
            " [59 85 56 37 92]\n",
            " [37 82 65 82 95]]\n",
            "\n",
            "First two rows and last three columns from each layer:\n",
            " [[[50 39 37]\n",
            "  [ 4 57 25]]\n",
            "\n",
            " [[14 24 17]\n",
            "  [42 85 97]]\n",
            "\n",
            " [[49 13 81]\n",
            "  [35 93 62]]]\n",
            "\n",
            "Array after replacing elements divisible by 3 with -1:\n",
            " [[[-1 -1 50 -1 37]\n",
            "  [-1 -1  4 -1 25]\n",
            "  [19 -1 16 47 58]\n",
            "  [29 26 85 71 77]]\n",
            "\n",
            " [[17 -1 14 -1 17]\n",
            "  [23 -1 -1 85 97]\n",
            "  [59 85 56 37 92]\n",
            "  [37 82 65 82 95]]\n",
            "\n",
            " [[47 55 49 13 -1]\n",
            "  [-1 -1 35 -1 62]\n",
            "  [-1 31 -1 -1 61]\n",
            "  [76 89 -1 -1 40]]]\n"
          ]
        }
      ]
    },
    {
      "cell_type": "code",
      "source": [
        "arr = np.random.randint(1, 21, size=(3, 3))\n",
        "print(\"Original Array:\\n\", arr)\n",
        "row_means = arr.mean(axis=1, keepdims=True)\n",
        "normalized_arr = arr - row_means\n",
        "print(\"\\nRow-wise Normalized Array:\\n\", normalized_arr)\n",
        "squared_arr = arr ** 2\n",
        "print(\"\\nSquared Array:\\n\", squared_arr)\n",
        "top_3_indices = np.unravel_index(np.argsort(arr, axis=None)[-3:], arr.shape)\n",
        "print(\"\\nIndices of the top 3 maximum values:\", top_3_indices)\n",
        "print(\"Top 3 maximum values:\", arr[top_3_indices])"
      ],
      "metadata": {
        "colab": {
          "base_uri": "https://localhost:8080/"
        },
        "id": "pdlO9Kd7PsA7",
        "outputId": "afe13ffa-16b9-4d71-d062-3ac2c1779bfa"
      },
      "execution_count": 15,
      "outputs": [
        {
          "output_type": "stream",
          "name": "stdout",
          "text": [
            "Original Array:\n",
            " [[19 20 16]\n",
            " [18  5 18]\n",
            " [11  5 12]]\n",
            "\n",
            "Row-wise Normalized Array:\n",
            " [[ 0.66666667  1.66666667 -2.33333333]\n",
            " [ 4.33333333 -8.66666667  4.33333333]\n",
            " [ 1.66666667 -4.33333333  2.66666667]]\n",
            "\n",
            "Squared Array:\n",
            " [[361 400 256]\n",
            " [324  25 324]\n",
            " [121  25 144]]\n",
            "\n",
            "Indices of the top 3 maximum values: (array([1, 0, 0]), array([2, 0, 1]))\n",
            "Top 3 maximum values: [18 19 20]\n"
          ]
        }
      ]
    }
  ]
}